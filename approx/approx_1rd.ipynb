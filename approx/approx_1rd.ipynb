{
 "cells": [
  {
   "cell_type": "code",
   "execution_count": 1,
   "metadata": {},
   "outputs": [],
   "source": [
    "import sympy\n",
    "from sympy import *"
   ]
  },
  {
   "cell_type": "code",
   "execution_count": 2,
   "metadata": {},
   "outputs": [],
   "source": [
    "init_printing(use_unicode=False, wrap_line=False)\n",
    "x = Symbol('x')\n",
    "u = Symbol('u')\n",
    "v = Symbol('v')\n",
    "w2 = Symbol('w2')\n",
    "w1 = Symbol('w1')\n",
    "w0 = Symbol('w0')"
   ]
  },
  {
   "cell_type": "code",
   "execution_count": null,
   "metadata": {},
   "outputs": [],
   "source": [
    "# relu_x = Piecewise((0,x<0),(x, x>=0))\n",
    "# relu_x"
   ]
  },
  {
   "cell_type": "code",
   "execution_count": 3,
   "metadata": {},
   "outputs": [],
   "source": [
    "norm = exp(-(x - u)**2/2/v**2) /v/sqrt(2 * pi)"
   ]
  },
  {
   "cell_type": "code",
   "execution_count": 4,
   "metadata": {},
   "outputs": [],
   "source": [
    "apprx_1rd = w1 * x + w0"
   ]
  },
  {
   "cell_type": "code",
   "execution_count": 5,
   "metadata": {},
   "outputs": [],
   "source": [
    "loss = sympy.simplify(integrate(norm * x**2, (x, 0, +oo))) + sympy.simplify(integrate(norm * apprx_1rd**2, (x, -oo, +oo))) - \\\n",
    "    sympy.simplify(integrate(2 * norm * x*apprx_1rd, (x, 0, +oo)))"
   ]
  },
  {
   "cell_type": "code",
   "execution_count": 6,
   "metadata": {},
   "outputs": [],
   "source": [
    "loss_sim = sympy.simplify(loss)"
   ]
  },
  {
   "cell_type": "code",
   "execution_count": 7,
   "metadata": {},
   "outputs": [
    {
     "data": {
      "text/latex": [
       "$\\displaystyle \\begin{cases} u^{2} w_{1}^{2} + u^{2} w_{1} \\operatorname{erfc}{\\left(\\frac{\\sqrt{2} u}{2 v} \\right)} - 2 u^{2} w_{1} - \\frac{u^{2} \\operatorname{erfc}{\\left(\\frac{\\sqrt{2} u}{2 v} \\right)}}{2} + u^{2} - \\frac{\\sqrt{2} u v w_{1} e^{- \\frac{u^{2}}{2 v^{2}}}}{\\sqrt{\\pi}} + \\frac{\\sqrt{2} u v e^{- \\frac{u^{2}}{2 v^{2}}}}{2 \\sqrt{\\pi}} + 2 u w_{0} w_{1} + u w_{0} \\operatorname{erfc}{\\left(\\frac{\\sqrt{2} u}{2 v} \\right)} - 2 u w_{0} + v^{2} w_{1}^{2} + v^{2} w_{1} \\operatorname{erfc}{\\left(\\frac{\\sqrt{2} u}{2 v} \\right)} - 2 v^{2} w_{1} - \\frac{v^{2} \\operatorname{erfc}{\\left(\\frac{\\sqrt{2} u}{2 v} \\right)}}{2} + v^{2} - \\frac{\\sqrt{2} v w_{0} e^{- \\frac{u^{2}}{2 v^{2}}}}{\\sqrt{\\pi}} + w_{0}^{2} & \\text{for}\\: \\left(\\left|{\\arg{\\left(v \\right)}}\\right| \\leq \\frac{\\pi}{4} \\vee \\left|{\\arg{\\left(v \\right)}}\\right| < \\frac{\\pi}{4}\\right) \\wedge \\left(\\left|{\\arg{\\left(u \\right)} - 2 \\arg{\\left(v \\right)}}\\right| < \\frac{\\pi}{2} \\vee \\left|{\\arg{\\left(v \\right)}}\\right| < \\frac{\\pi}{4}\\right) \\wedge \\left(\\left|{\\arg{\\left(u \\right)} - 2 \\arg{\\left(v \\right)} + \\pi}\\right| < \\frac{\\pi}{2} \\vee \\left|{\\arg{\\left(v \\right)}}\\right| < \\frac{\\pi}{4}\\right) \\wedge \\left(\\left|{\\arg{\\left(v \\right)}}\\right| \\leq \\frac{\\pi}{4} \\vee \\left|{\\arg{\\left(u \\right)} - 2 \\arg{\\left(v \\right)}}\\right| < \\frac{\\pi}{2} \\vee \\left|{\\arg{\\left(v \\right)}}\\right| < \\frac{\\pi}{4}\\right) \\wedge \\left(\\left|{\\arg{\\left(v \\right)}}\\right| \\leq \\frac{\\pi}{4} \\vee \\left|{\\arg{\\left(u \\right)} - 2 \\arg{\\left(v \\right)} + \\pi}\\right| < \\frac{\\pi}{2} \\vee \\left|{\\arg{\\left(v \\right)}}\\right| < \\frac{\\pi}{4}\\right) \\wedge \\left(\\left|{\\arg{\\left(u \\right)} - 2 \\arg{\\left(v \\right)}}\\right| < \\frac{\\pi}{2} \\vee \\left|{\\arg{\\left(u \\right)} - 2 \\arg{\\left(v \\right)} + \\pi}\\right| < \\frac{\\pi}{2} \\vee \\left|{\\arg{\\left(v \\right)}}\\right| < \\frac{\\pi}{4}\\right) \\\\u^{2} w_{1} \\operatorname{erfc}{\\left(\\frac{\\sqrt{2} u}{2 v} \\right)} - 2 u^{2} w_{1} - \\frac{u^{2} \\operatorname{erfc}{\\left(\\frac{\\sqrt{2} u}{2 v} \\right)}}{2} + u^{2} - \\frac{\\sqrt{2} u v w_{1} e^{- \\frac{u^{2}}{2 v^{2}}}}{\\sqrt{\\pi}} + \\frac{\\sqrt{2} u v e^{- \\frac{u^{2}}{2 v^{2}}}}{2 \\sqrt{\\pi}} + u w_{0} \\operatorname{erfc}{\\left(\\frac{\\sqrt{2} u}{2 v} \\right)} - 2 u w_{0} + v^{2} w_{1} \\operatorname{erfc}{\\left(\\frac{\\sqrt{2} u}{2 v} \\right)} - 2 v^{2} w_{1} - \\frac{v^{2} \\operatorname{erfc}{\\left(\\frac{\\sqrt{2} u}{2 v} \\right)}}{2} + v^{2} - \\frac{\\sqrt{2} v w_{0} e^{- \\frac{u^{2}}{2 v^{2}}}}{\\sqrt{\\pi}} + \\frac{\\sqrt{2} \\int\\limits_{-\\infty}^{\\infty} \\left(w_{0} + w_{1} x\\right)^{2} e^{- \\frac{\\left(u - x\\right)^{2}}{2 v^{2}}}\\, dx}{2 \\sqrt{\\pi} v} & \\text{for}\\: \\left(\\left|{\\arg{\\left(v \\right)}}\\right| \\leq \\frac{\\pi}{4} \\wedge \\left|{\\arg{\\left(u \\right)} - 2 \\arg{\\left(v \\right)} + \\pi}\\right| < \\frac{\\pi}{2}\\right) \\vee \\left|{\\arg{\\left(v \\right)}}\\right| < \\frac{\\pi}{4} \\\\\\frac{\\sqrt{2} \\left(\\int\\limits_{0}^{\\infty} x^{2} e^{- \\frac{\\left(u - x\\right)^{2}}{2 v^{2}}}\\, dx + \\int\\limits_{-\\infty}^{\\infty} \\left(w_{0} + w_{1} x\\right)^{2} e^{- \\frac{\\left(u - x\\right)^{2}}{2 v^{2}}}\\, dx - 2 \\int\\limits_{0}^{\\infty} x \\left(w_{0} + w_{1} x\\right) e^{- \\frac{\\left(u - x\\right)^{2}}{2 v^{2}}}\\, dx\\right)}{2 \\sqrt{\\pi} v} & \\text{otherwise} \\end{cases}$"
      ],
      "text/plain": [
       "/                                                                                   2                 2                                                                                                                             2                                                                                                                                                                                                                                                                                                                                                               \n",
       "|                                                                                 -u                -u                                                                                                                            -u                                                                                                                                                                                                                                                                                                                                                                \n",
       "|                                                  /  ___  \\                      ----              ----                                                                                             /  ___  \\                    ----                                                                                                                                                                                                                                                                                                                                                              \n",
       "|                                            2     |\\/ 2 *u|                         2                 2                                                                                       2     |\\/ 2 *u|                       2                                                                                                                                                                                                                                                                                                                                                              \n",
       "|                     /  ___  \\             u *erfc|-------|          ___         2*v      ___      2*v                         /  ___  \\                               /  ___  \\             v *erfc|-------|          ___       2*v                                                                                                                                                                                                                                                                                                                                                               \n",
       "|   2   2    2        |\\/ 2 *u|      2             \\  2*v  /    2   \\/ 2 *u*v*w1*e       \\/ 2 *u*v*e                            |\\/ 2 *u|             2   2    2        |\\/ 2 *u|      2             \\  2*v  /    2   \\/ 2 *v*w0*e         2           /  /            pi             pi\\    /                      pi             pi\\    /                           pi             pi\\    /            pi                        pi             pi\\    /            pi                             pi             pi\\    /                      pi                             pi             pi\\\\\n",
       "|  u *w1  + u *w1*erfc|-------| - 2*u *w1 - ---------------- + u  - ------------------ + --------------- + 2*u*w0*w1 + u*w0*erfc|-------| - 2*u*w0 + v *w1  + v *w1*erfc|-------| - 2*v *w1 - ---------------- + v  - ---------------- + w0     for And|Or||arg(v)| <= --, |arg(v)| < --|, Or||arg(u) - 2*arg(v)| < --, |arg(v)| < --|, Or||arg(u) - 2*arg(v) + pi| < --, |arg(v)| < --|, Or||arg(v)| <= --, |arg(u) - 2*arg(v)| < --, |arg(v)| < --|, Or||arg(v)| <= --, |arg(u) - 2*arg(v) + pi| < --, |arg(v)| < --|, Or||arg(u) - 2*arg(v)| < --, |arg(u) - 2*arg(v) + pi| < --, |arg(v)| < --||\n",
       "|                     \\  2*v  /                    2                        ____                 ____                           \\  2*v  /                               \\  2*v  /                    2                       ____                      \\  \\            4              4 /    \\                      2              4 /    \\                           2              4 /    \\            4                         2              4 /    \\            4                              2              4 /    \\                      2                              2              4 //\n",
       "|                                                                         \\/ pi              2*\\/ pi                                                                                                                       \\/ pi                                                                                                                                                                                                                                                                                                                                                                    \n",
       "|                                                                                                                                                                                                                                                                                                                                                                                                                                                                                                                                                                                                   \n",
       "|                                                                                                                                                                                                               oo                                                                                                                                                                                                                                                                                                                                                                                  \n",
       "|                                                                                                                                                                                                                /                                                                                                                                                                                                                                                                                                                                                                                  \n",
       "|                                                                                                                                                                                                               |                                                                                                                                                                                                                                                                                                                                                                                   \n",
       "|                                                                                                                                                                                                               |                        2                                                                                                                                                                                                                                                                                                                                                          \n",
       "|                                                                                                                                                                                                               |                -(u - x)                                                                                                                                                                                                                                                                                                                                                           \n",
       "|                                                                                                                                                                                                               |                ----------                                                                                                                                                                                                                                                                                                                                                         \n",
       "|                                                                        2                 2                                                                                                        2           |                      2                                                                                                                                                                                                                                                                                                                                                            \n",
       "|                                                                      -u                -u                                                                                                       -u       ___  |             2     2*v                                                                                                                                                                                                                                                                                                                                                             \n",
       "|                                       /  ___  \\                      ----              ----                                                                        /  ___  \\                    ----   \\/ 2 * |  (w0 + w1*x) *e           dx                                                                                                                                                                                                                                                                                                                                                      \n",
       "|                                 2     |\\/ 2 *u|                         2                 2                                                                  2     |\\/ 2 *u|                       2          |                                                                                                                                                                                                                                                                                                                                                                                   \n",
       "<          /  ___  \\             u *erfc|-------|          ___         2*v      ___      2*v             /  ___  \\                      /  ___  \\             v *erfc|-------|          ___       2*v          /                                                                                                                                                                                                                                                                                                                                                                                    \n",
       "| 2        |\\/ 2 *u|      2             \\  2*v  /    2   \\/ 2 *u*v*w1*e       \\/ 2 *u*v*e                |\\/ 2 *u|             2        |\\/ 2 *u|      2             \\  2*v  /    2   \\/ 2 *v*w0*e             -oo                                                                                                                                                                         /   /            pi                             pi\\             pi\\                                                                                                                                      \n",
       "|u *w1*erfc|-------| - 2*u *w1 - ---------------- + u  - ------------------ + --------------- + u*w0*erfc|-------| - 2*u*w0 + v *w1*erfc|-------| - 2*v *w1 - ---------------- + v  - ---------------- + -------------------------------------                                                                                                                                       for Or|And||arg(v)| <= --, |arg(u) - 2*arg(v) + pi| < --|, |arg(v)| < --|                                                                                                                                      \n",
       "|          \\  2*v  /                    2                        ____                 ____               \\  2*v  /                      \\  2*v  /                    2                       ____                          ____                                                                                                                                                            \\   \\            4                              2 /             4 /                                                                                                                                      \n",
       "|                                                              \\/ pi              2*\\/ pi                                                                                                  \\/ pi                       2*\\/ pi *v                                                                                                                                                                                                                                                                                                                                                                   \n",
       "|                                                                                                                                                                                                                                                                                                                                                                                                                                                                                                                                                                                                   \n",
       "|                                                                          / oo                      oo                                  oo                             \\                                                                                                                                                                                                                                                                                                                                                                                                                           \n",
       "|                                                                          |  /                       /                                   /                             |                                                                                                                                                                                                                                                                                                                                                                                                                           \n",
       "|                                                                          | |                       |                                   |                              |                                                                                                                                                                                                                                                                                                                                                                                                                           \n",
       "|                                                                          | |              2        |                        2          |                         2    |                                                                                                                                                                                                                                                                                                                                                                                                                           \n",
       "|                                                                          | |      -(u - x)         |                -(u - x)           |                 -(u - x)     |                                                                                                                                                                                                                                                                                                                                                                                                                           \n",
       "|                                                                          | |      ----------       |                ----------         |                 ----------   |                                                                                                                                                                                                                                                                                                                                                                                                                           \n",
       "|                                                                          | |            2          |                      2            |                       2      |                                                                                                                                                                                                                                                                                                                                                                                                                           \n",
       "|                                                                      ___ | |   2     2*v           |             2     2*v             |                    2*v       |                                                                                                                                                                                                                                                                                                                                                                                                                           \n",
       "|                                                                    \\/ 2 *| |  x *e           dx +  |  (w0 + w1*x) *e           dx - 2* |  x*(w0 + w1*x)*e           dx|                                                                                                                                                                                                                                                                                                                                                                                                                           \n",
       "|                                                                          | |                       |                                   |                              |                                                                                                                                                                                                                                                                                                                                                                                                                           \n",
       "|                                                                          |/                       /                                   /                               |                                                                                                                                                                                                                                                                                                                                                                                                                           \n",
       "|                                                                          \\0                       -oo                                 0                               /                                                                                                                                                                                                                                                                                                                                                                                                                           \n",
       "|                                                                    ----------------------------------------------------------------------------------------------------                                                                                                                                                                                                                                            otherwise                                                                                                                                                                      \n",
       "|                                                                                                                     ____                                                                                                                                                                                                                                                                                                                                                                                                                                                                          \n",
       "\\                                                                                                                 2*\\/ pi *v                                                                                                                                                                                                                                                                                                                                                                                                                                                                        "
      ]
     },
     "execution_count": 7,
     "metadata": {},
     "output_type": "execute_result"
    }
   ],
   "source": [
    "loss_sim"
   ]
  },
  {
   "cell_type": "code",
   "execution_count": 8,
   "metadata": {},
   "outputs": [
    {
     "name": "stdout",
     "output_type": "stream",
     "text": [
      "Piecewise((u**2*w1**2 + u**2*w1*erfc(sqrt(2)*u/(2*v)) - 2*u**2*w1 - u**2*erfc(sqrt(2)*u/(2*v))/2 + u**2 - sqrt(2)*u*v*w1*exp(-u**2/(2*v**2))/sqrt(pi) + sqrt(2)*u*v*exp(-u**2/(2*v**2))/(2*sqrt(pi)) + 2*u*w0*w1 + u*w0*erfc(sqrt(2)*u/(2*v)) - 2*u*w0 + v**2*w1**2 + v**2*w1*erfc(sqrt(2)*u/(2*v)) - 2*v**2*w1 - v**2*erfc(sqrt(2)*u/(2*v))/2 + v**2 - sqrt(2)*v*w0*exp(-u**2/(2*v**2))/sqrt(pi) + w0**2, ((Abs(arg(v)) <= pi/4) | (Abs(arg(v)) < pi/4)) & ((Abs(arg(v)) < pi/4) | (Abs(arg(u) - 2*arg(v)) < pi/2)) & ((Abs(arg(v)) < pi/4) | (Abs(arg(u) - 2*arg(v) + pi) < pi/2)) & ((Abs(arg(v)) <= pi/4) | (Abs(arg(v)) < pi/4) | (Abs(arg(u) - 2*arg(v)) < pi/2)) & ((Abs(arg(v)) <= pi/4) | (Abs(arg(v)) < pi/4) | (Abs(arg(u) - 2*arg(v) + pi) < pi/2)) & ((Abs(arg(v)) < pi/4) | (Abs(arg(u) - 2*arg(v)) < pi/2) | (Abs(arg(u) - 2*arg(v) + pi) < pi/2))), (u**2*w1*erfc(sqrt(2)*u/(2*v)) - 2*u**2*w1 - u**2*erfc(sqrt(2)*u/(2*v))/2 + u**2 - sqrt(2)*u*v*w1*exp(-u**2/(2*v**2))/sqrt(pi) + sqrt(2)*u*v*exp(-u**2/(2*v**2))/(2*sqrt(pi)) + u*w0*erfc(sqrt(2)*u/(2*v)) - 2*u*w0 + v**2*w1*erfc(sqrt(2)*u/(2*v)) - 2*v**2*w1 - v**2*erfc(sqrt(2)*u/(2*v))/2 + v**2 - sqrt(2)*v*w0*exp(-u**2/(2*v**2))/sqrt(pi) + sqrt(2)*Integral((w0 + w1*x)**2*exp(-(u - x)**2/(2*v**2)), (x, -oo, oo))/(2*sqrt(pi)*v), (Abs(arg(v)) < pi/4) | ((Abs(arg(v)) <= pi/4) & (Abs(arg(u) - 2*arg(v) + pi) < pi/2))), (sqrt(2)*(Integral(x**2*exp(-(u - x)**2/(2*v**2)), (x, 0, oo)) + Integral((w0 + w1*x)**2*exp(-(u - x)**2/(2*v**2)), (x, -oo, oo)) - 2*Integral(x*(w0 + w1*x)*exp(-(u - x)**2/(2*v**2)), (x, 0, oo)))/(2*sqrt(pi)*v), True))\n"
     ]
    }
   ],
   "source": [
    "print(loss_sim)"
   ]
  },
  {
   "cell_type": "code",
   "execution_count": 3,
   "metadata": {},
   "outputs": [],
   "source": [
    "loss_eq = u**2*w1**2 + u**2*w1*erfc(sqrt(2)*u/(2*v)) - 2*u**2*w1 - u**2*erfc(sqrt(2)*u/(2*v))/2 + u**2 - sqrt(2)*u*v*w1*exp(-u**2/(2*v**2))/sqrt(pi) + sqrt(2)*u*v*exp(-u**2/(2*v**2))/(2*sqrt(pi)) + 2*u*w0*w1 + u*w0*erfc(sqrt(2)*u/(2*v)) - 2*u*w0 + v**2*w1**2 + v**2*w1*erfc(sqrt(2)*u/(2*v)) - 2*v**2*w1 - v**2*erfc(sqrt(2)*u/(2*v))/2 + v**2 - sqrt(2)*v*w0*exp(-u**2/(2*v**2))/sqrt(pi) + w0**2"
   ]
  },
  {
   "cell_type": "code",
   "execution_count": 4,
   "metadata": {},
   "outputs": [],
   "source": [
    "w_sol = solve([loss_eq.diff(w1), loss_eq.diff(w0)], [w1, w0], dict=True) #, set=True"
   ]
  },
  {
   "cell_type": "code",
   "execution_count": 5,
   "metadata": {},
   "outputs": [
    {
     "data": {
      "image/png": "[encoded data removed]",
      "text/latex": [
       "$\\displaystyle \\left[ \\left\\{ w_{0} : \\frac{\\sqrt{2} v e^{- \\frac{u^{2}}{2 v^{2}}}}{2 \\sqrt{\\pi}}, \\  w_{1} : 1 - \\frac{\\operatorname{erfc}{\\left(\\frac{\\sqrt{2} u}{2 v} \\right)}}{2}\\right\\}\\right]$"
      ],
      "text/plain": [
       "                 2                          \n",
       "               -u                           \n",
       "               ----              /  ___  \\  \n",
       "                  2              |\\/ 2 *u|  \n",
       "        ___    2*v           erfc|-------|  \n",
       "      \\/ 2 *v*e                  \\  2*v  /  \n",
       "[{w0: -------------, w1: 1 - -------------}]\n",
       "             ____                  2        \n",
       "         2*\\/ pi                            "
      ]
     },
     "execution_count": 5,
     "metadata": {},
     "output_type": "execute_result"
    }
   ],
   "source": [
    "w_sol"
   ]
  },
  {
   "cell_type": "code",
   "execution_count": 6,
   "metadata": {},
   "outputs": [
    {
     "name": "stdout",
     "output_type": "stream",
     "text": [
      "[{w1: 1 - erfc(sqrt(2)*u/(2*v))/2, w0: sqrt(2)*v*exp(-u**2/(2*v**2))/(2*sqrt(pi))}]\n"
     ]
    }
   ],
   "source": [
    "print(w_sol)"
   ]
  },
  {
   "cell_type": "code",
   "execution_count": 7,
   "metadata": {},
   "outputs": [],
   "source": [
    "w1 = w_sol[0][w1]\n",
    "w0 = w_sol[0][w0]"
   ]
  },
  {
   "cell_type": "code",
   "execution_count": 8,
   "metadata": {},
   "outputs": [],
   "source": [
    "loss_eq_min = u**2*w1**2 + u**2*w1*erfc(sqrt(2)*u/(2*v)) - 2*u**2*w1 - u**2*erfc(sqrt(2)*u/(2*v))/2 + u**2 - sqrt(2)*u*v*w1*exp(-u**2/(2*v**2))/sqrt(pi) + sqrt(2)*u*v*exp(-u**2/(2*v**2))/(2*sqrt(pi)) + 2*u*w0*w1 + u*w0*erfc(sqrt(2)*u/(2*v)) - 2*u*w0 + v**2*w1**2 + v**2*w1*erfc(sqrt(2)*u/(2*v)) - 2*v**2*w1 - v**2*erfc(sqrt(2)*u/(2*v))/2 + v**2 - sqrt(2)*v*w0*exp(-u**2/(2*v**2))/sqrt(pi) + w0**2"
   ]
  },
  {
   "cell_type": "code",
   "execution_count": 9,
   "metadata": {},
   "outputs": [],
   "source": [
    "loss_eq_min_sim = sympy.simplify(loss_eq_min)"
   ]
  },
  {
   "cell_type": "code",
   "execution_count": 10,
   "metadata": {},
   "outputs": [
    {
     "data": {
      "image/png": "[encoded data removed]",
      "text/latex": [
       "$\\displaystyle - \\frac{u^{2} \\operatorname{erfc}^{2}{\\left(\\frac{\\sqrt{2} u}{2 v} \\right)}}{4} + \\frac{u^{2} \\operatorname{erfc}{\\left(\\frac{\\sqrt{2} u}{2 v} \\right)}}{2} + \\frac{\\sqrt{2} u v e^{- \\frac{u^{2}}{2 v^{2}}} \\operatorname{erfc}{\\left(\\frac{\\sqrt{2} u}{2 v} \\right)}}{2 \\sqrt{\\pi}} - \\frac{\\sqrt{2} u v e^{- \\frac{u^{2}}{2 v^{2}}}}{2 \\sqrt{\\pi}} - \\frac{v^{2} \\operatorname{erfc}^{2}{\\left(\\frac{\\sqrt{2} u}{2 v} \\right)}}{4} + \\frac{v^{2} \\operatorname{erfc}{\\left(\\frac{\\sqrt{2} u}{2 v} \\right)}}{2} - \\frac{v^{2} e^{- \\frac{u^{2}}{v^{2}}}}{2 \\pi}$"
      ],
      "text/plain": [
       "                                                      2                                                                                   \n",
       "                                                    -u                                2                                                 2 \n",
       "                                                    ----                            -u                                                -u  \n",
       "          /  ___  \\          /  ___  \\                 2     /  ___  \\              ----           /  ___  \\          /  ___  \\       ----\n",
       "   2     2|\\/ 2 *u|    2     |\\/ 2 *u|     ___      2*v      |\\/ 2 *u|                 2    2     2|\\/ 2 *u|    2     |\\/ 2 *u|         2 \n",
       "  u *erfc |-------|   u *erfc|-------|   \\/ 2 *u*v*e    *erfc|-------|     ___      2*v    v *erfc |-------|   v *erfc|-------|    2   v  \n",
       "          \\  2*v  /          \\  2*v  /                       \\  2*v  /   \\/ 2 *u*v*e               \\  2*v  /          \\  2*v  /   v *e    \n",
       "- ----------------- + ---------------- + ----------------------------- - --------------- - ----------------- + ---------------- - --------\n",
       "          4                  2                          ____                     ____              4                  2             2*pi  \n",
       "                                                    2*\\/ pi                  2*\\/ pi                                                      "
      ]
     },
     "execution_count": 10,
     "metadata": {},
     "output_type": "execute_result"
    }
   ],
   "source": [
    "loss_eq_min_sim"
   ]
  },
  {
   "cell_type": "code",
   "execution_count": 11,
   "metadata": {},
   "outputs": [
    {
     "name": "stdout",
     "output_type": "stream",
     "text": [
      "-u**2*erfc(sqrt(2)*u/(2*v))**2/4 + u**2*erfc(sqrt(2)*u/(2*v))/2 + sqrt(2)*u*v*exp(-u**2/(2*v**2))*erfc(sqrt(2)*u/(2*v))/(2*sqrt(pi)) - sqrt(2)*u*v*exp(-u**2/(2*v**2))/(2*sqrt(pi)) - v**2*erfc(sqrt(2)*u/(2*v))**2/4 + v**2*erfc(sqrt(2)*u/(2*v))/2 - v**2*exp(-u**2/v**2)/(2*pi)\n"
     ]
    }
   ],
   "source": [
    "print(loss_eq_min_sim)"
   ]
  },
  {
   "cell_type": "code",
   "execution_count": null,
   "metadata": {},
   "outputs": [],
   "source": [
    "# sympy.simplify(integrate(norm * relu_x, (x, 0, +oo)))"
   ]
  }
 ],
 "metadata": {
  "kernelspec": {
   "display_name": "torchenv",
   "language": "python",
   "name": "python3"
  },
  "language_info": {
   "codemirror_mode": {
    "name": "ipython",
    "version": 3
   },
   "file_extension": ".py",
   "mimetype": "text/x-python",
   "name": "python",
   "nbconvert_exporter": "python",
   "pygments_lexer": "ipython3",
   "version": "3.9.15"
  },
  "orig_nbformat": 4,
  "vscode": {
   "interpreter": {
    "hash": "09ed53c31c4084b0592fb3928828ca5258593b9e37489b03328497df4e897e81"
   }
  }
 },
 "nbformat": 4,
 "nbformat_minor": 2
}
