{
 "cells": [
  {
   "cell_type": "code",
   "execution_count": 2,
   "metadata": {},
   "outputs": [],
   "source": [
    "from approx import *"
   ]
  },
  {
   "cell_type": "code",
   "execution_count": 9,
   "metadata": {},
   "outputs": [
    {
     "name": "stdout",
     "output_type": "stream",
     "text": [
      "Parameter:  (array([-0.03924765,  0.18919761,  0.19487173]), array([0.15865525, 0.37251485, 0.41449387]))\n",
      "Loss:  [0.00113725 0.02097736 0.02192876]\n"
     ]
    }
   ],
   "source": [
    "# u = np.array([0.1622, -0.1626, -0.1080])\n",
    "# v = np.array([-0.1622, 0.1, 0.1])\n",
    "u = np.array([0.1622, -0.1626, -0.1080])\n",
    "v = np.array([-0.1622, 0.5, 0.5])\n",
    "para = approx_1rd(u, v)\n",
    "loss = approx_1rd_loss(u, v)\n",
    "print(\"Parameter: \", para)\n",
    "print(\"Loss: \", loss)"
   ]
  }
 ],
 "metadata": {
  "kernelspec": {
   "display_name": "torchenv",
   "language": "python",
   "name": "python3"
  },
  "language_info": {
   "codemirror_mode": {
    "name": "ipython",
    "version": 3
   },
   "file_extension": ".py",
   "mimetype": "text/x-python",
   "name": "python",
   "nbconvert_exporter": "python",
   "pygments_lexer": "ipython3",
   "version": "3.9.15"
  },
  "orig_nbformat": 4,
  "vscode": {
   "interpreter": {
    "hash": "09ed53c31c4084b0592fb3928828ca5258593b9e37489b03328497df4e897e81"
   }
  }
 },
 "nbformat": 4,
 "nbformat_minor": 2
}
