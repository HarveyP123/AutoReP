{
 "cells": [
  {
   "cell_type": "code",
   "execution_count": 1,
   "metadata": {},
   "outputs": [],
   "source": [
    "import sympy\n",
    "from sympy import *"
   ]
  },
  {
   "cell_type": "code",
   "execution_count": 2,
   "metadata": {},
   "outputs": [],
   "source": [
    "init_printing(use_unicode=False, wrap_line=False)\n",
    "x = Symbol('x')\n",
    "u = Symbol('u')\n",
    "v = Symbol('v')\n",
    "w2 = Symbol('w2')\n",
    "w1 = Symbol('w1')\n",
    "w0 = Symbol('w0')"
   ]
  },
  {
   "cell_type": "code",
   "execution_count": 3,
   "metadata": {},
   "outputs": [],
   "source": [
    "# relu_x = Piecewise((0,x<0),(x, x>=0))\n",
    "# relu_x"
   ]
  },
  {
   "cell_type": "code",
   "execution_count": 4,
   "metadata": {},
   "outputs": [],
   "source": [
    "norm = exp(-(x - u)**2/2/v**2) /v/sqrt(2 * pi)"
   ]
  },
  {
   "cell_type": "code",
   "execution_count": 5,
   "metadata": {},
   "outputs": [],
   "source": [
    "apprx_2rd = w2 * x**2 + w1 * x + w0"
   ]
  },
  {
   "cell_type": "code",
   "execution_count": 6,
   "metadata": {},
   "outputs": [],
   "source": [
    "loss = sympy.simplify(integrate(norm * x**2, (x, 0, +oo))) + sympy.simplify(integrate(norm * apprx_2rd**2, (x, -oo, +oo))) - \\\n",
    "    sympy.simplify(integrate(2 * norm * x*apprx_2rd, (x, 0, +oo)))"
   ]
  },
  {
   "cell_type": "code",
   "execution_count": 8,
   "metadata": {},
   "outputs": [],
   "source": [
    "loss_sim = sympy.simplify(loss)"
   ]
  },
  {
   "cell_type": "code",
   "execution_count": 11,
   "metadata": {},
   "outputs": [
    {
     "data": {
      "text/latex": [
       "$\\displaystyle \\begin{cases} u^{4} w_{2}^{2} + 2 u^{3} w_{1} w_{2} + u^{3} w_{2} \\operatorname{erfc}{\\left(\\frac{\\sqrt{2} u}{2 v} \\right)} - 2 u^{3} w_{2} + 6 u^{2} v^{2} w_{2}^{2} - \\frac{\\sqrt{2} u^{2} v w_{2} e^{- \\frac{u^{2}}{2 v^{2}}}}{\\sqrt{\\pi}} + 2 u^{2} w_{0} w_{2} + u^{2} w_{1}^{2} + u^{2} w_{1} \\operatorname{erfc}{\\left(\\frac{\\sqrt{2} u}{2 v} \\right)} - 2 u^{2} w_{1} - \\frac{u^{2} \\operatorname{erfc}{\\left(\\frac{\\sqrt{2} u}{2 v} \\right)}}{2} + u^{2} + 6 u v^{2} w_{1} w_{2} + 3 u v^{2} w_{2} \\operatorname{erfc}{\\left(\\frac{\\sqrt{2} u}{2 v} \\right)} - 6 u v^{2} w_{2} - \\frac{\\sqrt{2} u v w_{1} e^{- \\frac{u^{2}}{2 v^{2}}}}{\\sqrt{\\pi}} + \\frac{\\sqrt{2} u v e^{- \\frac{u^{2}}{2 v^{2}}}}{2 \\sqrt{\\pi}} + 2 u w_{0} w_{1} + u w_{0} \\operatorname{erfc}{\\left(\\frac{\\sqrt{2} u}{2 v} \\right)} - 2 u w_{0} + 3 v^{4} w_{2}^{2} - \\frac{2 \\sqrt{2} v^{3} w_{2} e^{- \\frac{u^{2}}{2 v^{2}}}}{\\sqrt{\\pi}} + 2 v^{2} w_{0} w_{2} + v^{2} w_{1}^{2} + v^{2} w_{1} \\operatorname{erfc}{\\left(\\frac{\\sqrt{2} u}{2 v} \\right)} - 2 v^{2} w_{1} - \\frac{v^{2} \\operatorname{erfc}{\\left(\\frac{\\sqrt{2} u}{2 v} \\right)}}{2} + v^{2} - \\frac{\\sqrt{2} v w_{0} e^{- \\frac{u^{2}}{2 v^{2}}}}{\\sqrt{\\pi}} + w_{0}^{2} & \\text{for}\\: \\left(\\left|{\\arg{\\left(v \\right)}}\\right| \\leq \\frac{\\pi}{4} \\vee \\left|{\\arg{\\left(v \\right)}}\\right| < \\frac{\\pi}{4}\\right) \\wedge \\left(\\left|{\\arg{\\left(u \\right)} - 2 \\arg{\\left(v \\right)}}\\right| < \\frac{\\pi}{2} \\vee \\left|{\\arg{\\left(v \\right)}}\\right| < \\frac{\\pi}{4}\\right) \\wedge \\left(\\left|{\\arg{\\left(u \\right)} - 2 \\arg{\\left(v \\right)} + \\pi}\\right| < \\frac{\\pi}{2} \\vee \\left|{\\arg{\\left(v \\right)}}\\right| < \\frac{\\pi}{4}\\right) \\wedge \\left(\\left|{\\arg{\\left(v \\right)}}\\right| \\leq \\frac{\\pi}{4} \\vee \\left|{\\arg{\\left(u \\right)} - 2 \\arg{\\left(v \\right)}}\\right| < \\frac{\\pi}{2} \\vee \\left|{\\arg{\\left(v \\right)}}\\right| < \\frac{\\pi}{4}\\right) \\wedge \\left(\\left|{\\arg{\\left(v \\right)}}\\right| \\leq \\frac{\\pi}{4} \\vee \\left|{\\arg{\\left(u \\right)} - 2 \\arg{\\left(v \\right)} + \\pi}\\right| < \\frac{\\pi}{2} \\vee \\left|{\\arg{\\left(v \\right)}}\\right| < \\frac{\\pi}{4}\\right) \\wedge \\left(\\left|{\\arg{\\left(u \\right)} - 2 \\arg{\\left(v \\right)}}\\right| < \\frac{\\pi}{2} \\vee \\left|{\\arg{\\left(u \\right)} - 2 \\arg{\\left(v \\right)} + \\pi}\\right| < \\frac{\\pi}{2} \\vee \\left|{\\arg{\\left(v \\right)}}\\right| < \\frac{\\pi}{4}\\right) \\\\\\frac{\\left(u^{2} v \\left(\\sqrt{2} u v + \\sqrt{\\pi} \\left(- u^{2} \\operatorname{erfc}{\\left(\\frac{\\sqrt{2} u}{2 v} \\right)} + 2 u^{2} - v^{2} \\operatorname{erfc}{\\left(\\frac{\\sqrt{2} u}{2 v} \\right)} + 2 v^{2}\\right) e^{\\frac{u^{2}}{2 v^{2}}}\\right) e^{\\frac{u^{2}}{2 v^{2}}} + \\sqrt{2} u^{2} e^{\\frac{u^{2}}{v^{2}}} \\int\\limits_{-\\infty}^{\\infty} \\left(w_{0} + w_{1} x + w_{2} x^{2}\\right)^{2} e^{- \\frac{\\left(u - x\\right)^{2}}{2 v^{2}}}\\, dx + v \\left(2 u^{2} w_{0} \\left(\\sqrt{\\pi} u \\left(\\operatorname{erfc}{\\left(\\frac{\\sqrt{2} u}{2 v} \\right)} - 2\\right) e^{\\frac{u^{2}}{2 v^{2}}} - \\sqrt{2} v\\right) + 2 u w_{1} \\left(\\sqrt{2} v^{3} + \\left(u^{2} + v^{2}\\right) \\left(\\sqrt{\\pi} u \\left(\\operatorname{erfc}{\\left(\\frac{\\sqrt{2} u}{2 v} \\right)} - 2\\right) e^{\\frac{u^{2}}{2 v^{2}}} - \\sqrt{2} v\\right)\\right) - \\sqrt{2} w_{2} \\cdot \\left(6 v^{5} - \\sqrt{2} \\left(u^{2} + 3 v^{2}\\right) \\left(\\sqrt{\\pi} u^{3} \\left(\\operatorname{erfc}{\\left(\\frac{\\sqrt{2} u}{2 v} \\right)} - 2\\right) e^{\\frac{u^{2}}{2 v^{2}}} - \\sqrt{2} v \\left(u^{2} - v^{2}\\right)\\right)\\right)\\right) e^{\\frac{u^{2}}{2 v^{2}}}\\right) e^{- \\frac{u^{2}}{v^{2}}}}{2 \\sqrt{\\pi} u^{2} v} & \\text{for}\\: \\left(\\left|{\\arg{\\left(v \\right)}}\\right| \\leq \\frac{\\pi}{4} \\wedge \\left|{\\arg{\\left(u \\right)} - 2 \\arg{\\left(v \\right)} + \\pi}\\right| < \\frac{\\pi}{2}\\right) \\vee \\left|{\\arg{\\left(v \\right)}}\\right| < \\frac{\\pi}{4} \\\\\\frac{\\sqrt{2} \\left(\\int\\limits_{0}^{\\infty} x^{2} e^{- \\frac{\\left(u - x\\right)^{2}}{2 v^{2}}}\\, dx + \\int\\limits_{-\\infty}^{\\infty} \\left(w_{0} + w_{1} x + w_{2} x^{2}\\right)^{2} e^{- \\frac{\\left(u - x\\right)^{2}}{2 v^{2}}}\\, dx - 2 \\int\\limits_{0}^{\\infty} x \\left(w_{0} + w_{1} x + w_{2} x^{2}\\right) e^{- \\frac{\\left(u - x\\right)^{2}}{2 v^{2}}}\\, dx\\right)}{2 \\sqrt{\\pi} v} & \\text{otherwise} \\end{cases}$"
      ],
      "text/plain": [
       "/                                                                                     2                                                                                                                                                       2                 2                                                                          2                                                                                                2                                                                                                                                                                                                                                                                                                                                                             \n",
       "|                                                                                   -u                                                                                                                                                      -u                -u                                                                         -u                                                                                               -u                                                                                                                                                                                                                                                                                                                                                              \n",
       "|                                                                                   ----                                                                /  ___  \\                                                                           ----              ----                                                                       ----                                                                /  ___  \\                    ----                                                                                                                                                                                                                                                                                                                                                            \n",
       "|                                                                                      2                                                          2     |\\/ 2 *u|                                                                              2                 2                                                                          2                                                          2     |\\/ 2 *u|                       2                                                                                                                                                                                                                                                                                                                                                            \n",
       "|                                /  ___  \\                             ___  2       2*v                                    /  ___  \\             u *erfc|-------|                                     /  ___  \\                 ___         2*v      ___      2*v                         /  ___  \\                           ___  3     2*v                                    /  ___  \\             v *erfc|-------|          ___       2*v                                                                                                                                                                                                                                                                                                                                                             \n",
       "| 4   2      3          3        |\\/ 2 *u|      3         2  2   2   \\/ 2 *u *v*w2*e          2          2   2    2        |\\/ 2 *u|      2             \\  2*v  /    2        2              2        |\\/ 2 *u|        2      \\/ 2 *u*v*w1*e       \\/ 2 *u*v*e                            |\\/ 2 *u|               4   2   2*\\/ 2 *v *w2*e          2          2   2    2        |\\/ 2 *u|      2             \\  2*v  /    2   \\/ 2 *v*w0*e         2         /  /            pi             pi\\    /                      pi             pi\\    /                           pi             pi\\    /            pi                        pi             pi\\    /            pi                             pi             pi\\    /                      pi                             pi             pi\\\\\n",
       "|u *w2  + 2*u *w1*w2 + u *w2*erfc|-------| - 2*u *w2 + 6*u *v *w2  - ------------------- + 2*u *w0*w2 + u *w1  + u *w1*erfc|-------| - 2*u *w1 - ---------------- + u  + 6*u*v *w1*w2 + 3*u*v *w2*erfc|-------| - 6*u*v *w2 - ------------------ + --------------- + 2*u*w0*w1 + u*w0*erfc|-------| - 2*u*w0 + 3*v *w2  - ------------------- + 2*v *w0*w2 + v *w1  + v *w1*erfc|-------| - 2*v *w1 - ---------------- + v  - ---------------- + w0   for And|Or||arg(v)| <= --, |arg(v)| < --|, Or||arg(u) - 2*arg(v)| < --, |arg(v)| < --|, Or||arg(u) - 2*arg(v) + pi| < --, |arg(v)| < --|, Or||arg(v)| <= --, |arg(u) - 2*arg(v)| < --, |arg(v)| < --|, Or||arg(v)| <= --, |arg(u) - 2*arg(v) + pi| < --, |arg(v)| < --|, Or||arg(u) - 2*arg(v)| < --, |arg(u) - 2*arg(v) + pi| < --, |arg(v)| < --||\n",
       "|                                \\  2*v  /                                    ____                                         \\  2*v  /                    2                                             \\  2*v  /                       ____                 ____                           \\  2*v  /                                ____                                         \\  2*v  /                    2                       ____                    \\  \\            4              4 /    \\                      2              4 /    \\                           2              4 /    \\            4                         2              4 /    \\            4                              2              4 /    \\                      2                              2              4 //\n",
       "|                                                                           \\/ pi                                                                                                                                                   \\/ pi              2*\\/ pi                                                                   \\/ pi                                                                                             \\/ pi                                                                                                                                                                                                                                                                                                                                                                  \n",
       "|                                                                                                                                                                                                                                                                                                                                                                                                                                                                                                                                                                                                                                                                                                                                                                                                         \n",
       "|                   /                                                                                                            oo                                                                                                                                                                                                                                                                                      \\                                                                                                                                                                                                                                                                                                                                                                                \n",
       "|                   |                                                                                                             /                                                                                                                                                                                                                                                                                      |                                                                                                                                                                                                                                                                                                                                                                                \n",
       "|                   |                                                                                                            |                                                                                                                                                                                                                                                                                       |                                                                                                                                                                                                                                                                                                                                                                                \n",
       "|                   |     /                                                                            2 \\    2               2  |                                2         /        /                                2           \\          /                     /                                2           \\\\            /                         /                                 2                     \\\\\\    2 |    2                                                                                                                                                                                                                                                                                                                                                                           \n",
       "|                   |     |                                                                           u  |   u               u   |                        -(u - x)          |        |                               u            |          |                     |                               u            ||            |                         |                                u                      |||   u  |  -u                                                                                                                                                                                                                                                                                                                                                                            \n",
       "|                   |     |                                                                          ----|  ----             --  |                        ----------        |        |                              ----          |          |                     |                              ----          ||            |                         |                               ----                    |||  ----|  ----                                                                                                                                                                                                                                                                                                                                                                          \n",
       "|                   |     |                   /         /  ___  \\                 /  ___  \\       \\     2|     2              2  |                     2        2           |        |         /    /  ___  \\    \\     2          |          |                     |         /    /  ___  \\    \\     2          ||            |                         |          /    /  ___  \\    \\     2                    |||     2|    2                                                                                                                                                                                                                                                                                                                                                                           \n",
       "|                   | 2   |  ___         ____ |   2     |\\/ 2 *u|      2    2     |\\/ 2 *u|      2|  2*v |  2*v      ___  2  v   |  /                2\\      2*v            |   2    |  ____   |    |\\/ 2 *u|    |  2*v      ___  |          |  ___  3   / 2    2\\ |  ____   |    |\\/ 2 *u|    |  2*v      ___  ||     ___    |   5     ___ / 2      2\\ |  ____  3 |    |\\/ 2 *u|    |  2*v      ___   / 2    2\\|||  2*v |   v                                                                                                                                                                                                                                                                                                                                                                            \n",
       "|                   |u *v*|\\/ 2 *u*v + \\/ pi *|- u *erfc|-------| + 2*u  - v *erfc|-------| + 2*v |*e    |*e     + \\/ 2 *u *e  * |  \\w0 + w1*x + w2*x / *e           dx + v*|2*u *w0*|\\/ pi *u*|erfc|-------| - 2|*e     - \\/ 2 *v| + 2*u*w1*|\\/ 2 *v  + \\u  + v /*|\\/ pi *u*|erfc|-------| - 2|*e     - \\/ 2 *v|| - \\/ 2 *w2*|6*v  - \\/ 2 *\\u  + 3*v /*|\\/ pi *u *|erfc|-------| - 2|*e     - \\/ 2 *v*\\u  - v /|||*e    |*e                                                                                                                                                                                                                                                                                                                                                                              \n",
       "|                   |     \\                   \\         \\  2*v  /                 \\  2*v  /       /      /                       |                                          \\        \\         \\    \\  2*v  /    /                /          \\                     \\         \\    \\  2*v  /    /                //            \\                         \\          \\    \\  2*v  /    /                          ///      |                                                                                                                                                                                                                                                                                                                                                                                \n",
       "<                   |                                                                                                           /                                                                                                                                                                                                                                                                                        |                                                                                                                                                                                                                                                                                                                                                                                \n",
       "|                   \\                                                                                                           -oo                                                                                                                                                                                                                                                                                      /                                                                                                                                                                       /   /            pi                             pi\\             pi\\                                                                                                                                      \n",
       "|                   ------------------------------------------------------------------------------------------------------------------------------------------------------------------------------------------------------------------------------------------------------------------------------------------------------------------------------------------------------------------------------------------------------------                                                                                                                                                           for Or|And||arg(v)| <= --, |arg(u) - 2*arg(v) + pi| < --|, |arg(v)| < --|                                                                                                                                      \n",
       "|                                                                                                                                                                                                                      ____  2                                                                                                                                                                                                                                                                                                                                                                   \\   \\            4                              2 /             4 /                                                                                                                                      \n",
       "|                                                                                                                                                                                                                  2*\\/ pi *u *v                                                                                                                                                                                                                                                                                                                                                                                                                                                                                                                                                                          \n",
       "|                                                                                                                                                                                                                                                                                                                                                                                                                                                                                                                                                                                                                                                                                                                                                                                                         \n",
       "|                                                                                                                                                                     / oo                      oo                                          oo                                     \\                                                                                                                                                                                                                                                                                                                                                                                                                                                                                                                      \n",
       "|                                                                                                                                                                     |  /                       /                                           /                                     |                                                                                                                                                                                                                                                                                                                                                                                                                                                                                                                      \n",
       "|                                                                                                                                                                     | |                       |                                           |                                      |                                                                                                                                                                                                                                                                                                                                                                                                                                                                                                                      \n",
       "|                                                                                                                                                                     | |              2        |                                2          |                                 2    |                                                                                                                                                                                                                                                                                                                                                                                                                                                                                                                      \n",
       "|                                                                                                                                                                     | |      -(u - x)         |                        -(u - x)           |                         -(u - x)     |                                                                                                                                                                                                                                                                                                                                                                                                                                                                                                                      \n",
       "|                                                                                                                                                                     | |      ----------       |                        ----------         |                         ----------   |                                                                                                                                                                                                                                                                                                                                                                                                                                                                                                                      \n",
       "|                                                                                                                                                                     | |            2          |                     2        2            |                               2      |                                                                                                                                                                                                                                                                                                                                                                                                                                                                                                                      \n",
       "|                                                                                                                                                                 ___ | |   2     2*v           |  /                2\\      2*v             |    /                2\\     2*v       |                                                                                                                                                                                                                                                                                                                                                                                                                                                                                                                      \n",
       "|                                                                                                                                                               \\/ 2 *| |  x *e           dx +  |  \\w0 + w1*x + w2*x / *e           dx - 2* |  x*\\w0 + w1*x + w2*x /*e           dx|                                                                                                                                                                                                                                                                                                                                                                                                                                                                                                                      \n",
       "|                                                                                                                                                                     | |                       |                                           |                                      |                                                                                                                                                                                                                                                                                                                                                                                                                                                                                                                      \n",
       "|                                                                                                                                                                     |/                       /                                           /                                       |                                                                                                                                                                                                                                                                                                                                                                                                                                                                                                                      \n",
       "|                                                                                                                                                                     \\0                       -oo                                         0                                       /                                                                                                                                                                                                                                                                                                                                                                                                                                                                                                                      \n",
       "|                                                                                                                                                               --------------------------------------------------------------------------------------------------------------------                                                                                                                                                                                                                                                                                                                                       otherwise                                                                                                                                                                      \n",
       "|                                                                                                                                                                                                                        ____                                                                                                                                                                                                                                                                                                                                                                                                                                                                                                                                                                             \n",
       "\\                                                                                                                                                                                                                    2*\\/ pi *v                                                                                                                                                                                                                                                                                                                                                                                                                                                                                                                                                                           "
      ]
     },
     "execution_count": 11,
     "metadata": {},
     "output_type": "execute_result"
    }
   ],
   "source": [
    "loss_sim"
   ]
  },
  {
   "cell_type": "code",
   "execution_count": 10,
   "metadata": {},
   "outputs": [
    {
     "name": "stdout",
     "output_type": "stream",
     "text": [
      "Piecewise((u**4*w2**2 + 2*u**3*w1*w2 + u**3*w2*erfc(sqrt(2)*u/(2*v)) - 2*u**3*w2 + 6*u**2*v**2*w2**2 - sqrt(2)*u**2*v*w2*exp(-u**2/(2*v**2))/sqrt(pi) + 2*u**2*w0*w2 + u**2*w1**2 + u**2*w1*erfc(sqrt(2)*u/(2*v)) - 2*u**2*w1 - u**2*erfc(sqrt(2)*u/(2*v))/2 + u**2 + 6*u*v**2*w1*w2 + 3*u*v**2*w2*erfc(sqrt(2)*u/(2*v)) - 6*u*v**2*w2 - sqrt(2)*u*v*w1*exp(-u**2/(2*v**2))/sqrt(pi) + sqrt(2)*u*v*exp(-u**2/(2*v**2))/(2*sqrt(pi)) + 2*u*w0*w1 + u*w0*erfc(sqrt(2)*u/(2*v)) - 2*u*w0 + 3*v**4*w2**2 - 2*sqrt(2)*v**3*w2*exp(-u**2/(2*v**2))/sqrt(pi) + 2*v**2*w0*w2 + v**2*w1**2 + v**2*w1*erfc(sqrt(2)*u/(2*v)) - 2*v**2*w1 - v**2*erfc(sqrt(2)*u/(2*v))/2 + v**2 - sqrt(2)*v*w0*exp(-u**2/(2*v**2))/sqrt(pi) + w0**2, ((Abs(arg(v)) <= pi/4) | (Abs(arg(v)) < pi/4)) & ((Abs(arg(v)) < pi/4) | (Abs(arg(u) - 2*arg(v)) < pi/2)) & ((Abs(arg(v)) < pi/4) | (Abs(arg(u) - 2*arg(v) + pi) < pi/2)) & ((Abs(arg(v)) <= pi/4) | (Abs(arg(v)) < pi/4) | (Abs(arg(u) - 2*arg(v)) < pi/2)) & ((Abs(arg(v)) <= pi/4) | (Abs(arg(v)) < pi/4) | (Abs(arg(u) - 2*arg(v) + pi) < pi/2)) & ((Abs(arg(v)) < pi/4) | (Abs(arg(u) - 2*arg(v)) < pi/2) | (Abs(arg(u) - 2*arg(v) + pi) < pi/2))), ((u**2*v*(sqrt(2)*u*v + sqrt(pi)*(-u**2*erfc(sqrt(2)*u/(2*v)) + 2*u**2 - v**2*erfc(sqrt(2)*u/(2*v)) + 2*v**2)*exp(u**2/(2*v**2)))*exp(u**2/(2*v**2)) + sqrt(2)*u**2*exp(u**2/v**2)*Integral((w0 + w1*x + w2*x**2)**2*exp(-(u - x)**2/(2*v**2)), (x, -oo, oo)) + v*(2*u**2*w0*(sqrt(pi)*u*(erfc(sqrt(2)*u/(2*v)) - 2)*exp(u**2/(2*v**2)) - sqrt(2)*v) + 2*u*w1*(sqrt(2)*v**3 + (u**2 + v**2)*(sqrt(pi)*u*(erfc(sqrt(2)*u/(2*v)) - 2)*exp(u**2/(2*v**2)) - sqrt(2)*v)) - sqrt(2)*w2*(6*v**5 - sqrt(2)*(u**2 + 3*v**2)*(sqrt(pi)*u**3*(erfc(sqrt(2)*u/(2*v)) - 2)*exp(u**2/(2*v**2)) - sqrt(2)*v*(u**2 - v**2))))*exp(u**2/(2*v**2)))*exp(-u**2/v**2)/(2*sqrt(pi)*u**2*v), (Abs(arg(v)) < pi/4) | ((Abs(arg(v)) <= pi/4) & (Abs(arg(u) - 2*arg(v) + pi) < pi/2))), (sqrt(2)*(Integral(x**2*exp(-(u - x)**2/(2*v**2)), (x, 0, oo)) + Integral((w0 + w1*x + w2*x**2)**2*exp(-(u - x)**2/(2*v**2)), (x, -oo, oo)) - 2*Integral(x*(w0 + w1*x + w2*x**2)*exp(-(u - x)**2/(2*v**2)), (x, 0, oo)))/(2*sqrt(pi)*v), True))\n"
     ]
    }
   ],
   "source": [
    "print(loss_sim)"
   ]
  },
  {
   "cell_type": "code",
   "execution_count": 3,
   "metadata": {},
   "outputs": [],
   "source": [
    "loss_eq = u**4*w2**2 + 2*u**3*w1*w2 + u**3*w2*erfc(sqrt(2)*u/(2*v)) - 2*u**3*w2 + 6*u**2*v**2*w2**2 - sqrt(2)*u**2*v*w2*exp(-u**2/(2*v**2))/sqrt(pi) + 2*u**2*w0*w2 + u**2*w1**2 + u**2*w1*erfc(sqrt(2)*u/(2*v)) - 2*u**2*w1 - u**2*erfc(sqrt(2)*u/(2*v))/2 + u**2 + 6*u*v**2*w1*w2 + 3*u*v**2*w2*erfc(sqrt(2)*u/(2*v)) - 6*u*v**2*w2 - sqrt(2)*u*v*w1*exp(-u**2/(2*v**2))/sqrt(pi) + sqrt(2)*u*v*exp(-u**2/(2*v**2))/(2*sqrt(pi)) + 2*u*w0*w1 + u*w0*erfc(sqrt(2)*u/(2*v)) - 2*u*w0 + 3*v**4*w2**2 - 2*sqrt(2)*v**3*w2*exp(-u**2/(2*v**2))/sqrt(pi) + 2*v**2*w0*w2 + v**2*w1**2 + v**2*w1*erfc(sqrt(2)*u/(2*v)) - 2*v**2*w1 - v**2*erfc(sqrt(2)*u/(2*v))/2 + v**2 - sqrt(2)*v*w0*exp(-u**2/(2*v**2))/sqrt(pi) + w0**2"
   ]
  },
  {
   "cell_type": "code",
   "execution_count": 4,
   "metadata": {},
   "outputs": [],
   "source": [
    "w_sol = solve([loss_eq.diff(w2), loss_eq.diff(w1), loss_eq.diff(w0)], [w2, w1, w0], dict=True) #, set=True"
   ]
  },
  {
   "cell_type": "code",
   "execution_count": 5,
   "metadata": {},
   "outputs": [
    {
     "data": {
      "image/png": "[encoded data removed]",
      "text/latex": [
       "$\\displaystyle \\left[ \\left\\{ w_{0} : \\frac{\\sqrt{2} u^{2} e^{- \\frac{u^{2}}{2 v^{2}}}}{4 \\sqrt{\\pi} v} + \\frac{\\sqrt{2} v e^{- \\frac{u^{2}}{2 v^{2}}}}{4 \\sqrt{\\pi}}, \\  w_{1} : - \\frac{\\sqrt{2} u e^{- \\frac{u^{2}}{2 v^{2}}}}{2 \\sqrt{\\pi} v} - \\frac{\\operatorname{erfc}{\\left(\\frac{\\sqrt{2} u}{2 v} \\right)}}{2} + 1, \\  w_{2} : \\frac{\\sqrt{2} e^{- \\frac{u^{2}}{2 v^{2}}}}{4 \\sqrt{\\pi} v}\\right\\}\\right]$"
      ],
      "text/plain": [
       "                  2               2                    2                                    2   \n",
       "                -u              -u                   -u                                   -u    \n",
       "                ----            ----                 ----       /  ___  \\                 ----  \n",
       "                   2               2                    2       |\\/ 2 *u|                    2  \n",
       "        ___  2  2*v      ___    2*v           ___    2*v    erfc|-------|            ___  2*v   \n",
       "      \\/ 2 *u *e       \\/ 2 *v*e            \\/ 2 *u*e           \\  2*v  /          \\/ 2 *e      \n",
       "[{w0: -------------- + -------------, w1: - ------------- - ------------- + 1, w2: -----------}]\n",
       "            ____              ____                ____            2                     ____    \n",
       "        4*\\/ pi *v        4*\\/ pi             2*\\/ pi *v                            4*\\/ pi *v  "
      ]
     },
     "execution_count": 5,
     "metadata": {},
     "output_type": "execute_result"
    }
   ],
   "source": [
    "w_sol"
   ]
  },
  {
   "cell_type": "code",
   "execution_count": 6,
   "metadata": {},
   "outputs": [
    {
     "name": "stdout",
     "output_type": "stream",
     "text": [
      "[{w2: sqrt(2)*exp(-u**2/(2*v**2))/(4*sqrt(pi)*v), w1: -sqrt(2)*u*exp(-u**2/(2*v**2))/(2*sqrt(pi)*v) - erfc(sqrt(2)*u/(2*v))/2 + 1, w0: sqrt(2)*u**2*exp(-u**2/(2*v**2))/(4*sqrt(pi)*v) + sqrt(2)*v*exp(-u**2/(2*v**2))/(4*sqrt(pi))}]\n"
     ]
    }
   ],
   "source": [
    "print(w_sol)"
   ]
  },
  {
   "cell_type": "code",
   "execution_count": 7,
   "metadata": {},
   "outputs": [],
   "source": [
    "w2 = w_sol[0][w2]\n",
    "w1 = w_sol[0][w1]\n",
    "w0 = w_sol[0][w0]"
   ]
  },
  {
   "cell_type": "code",
   "execution_count": 8,
   "metadata": {},
   "outputs": [],
   "source": [
    "loss_eq_min = u**4*w2**2 + 2*u**3*w1*w2 + u**3*w2*erfc(sqrt(2)*u/(2*v)) - 2*u**3*w2 + 6*u**2*v**2*w2**2 - sqrt(2)*u**2*v*w2*exp(-u**2/(2*v**2))/sqrt(pi) + 2*u**2*w0*w2 + u**2*w1**2 + u**2*w1*erfc(sqrt(2)*u/(2*v)) - 2*u**2*w1 - u**2*erfc(sqrt(2)*u/(2*v))/2 + u**2 + 6*u*v**2*w1*w2 + 3*u*v**2*w2*erfc(sqrt(2)*u/(2*v)) - 6*u*v**2*w2 - sqrt(2)*u*v*w1*exp(-u**2/(2*v**2))/sqrt(pi) + sqrt(2)*u*v*exp(-u**2/(2*v**2))/(2*sqrt(pi)) + 2*u*w0*w1 + u*w0*erfc(sqrt(2)*u/(2*v)) - 2*u*w0 + 3*v**4*w2**2 - 2*sqrt(2)*v**3*w2*exp(-u**2/(2*v**2))/sqrt(pi) + 2*v**2*w0*w2 + v**2*w1**2 + v**2*w1*erfc(sqrt(2)*u/(2*v)) - 2*v**2*w1 - v**2*erfc(sqrt(2)*u/(2*v))/2 + v**2 - sqrt(2)*v*w0*exp(-u**2/(2*v**2))/sqrt(pi) + w0**2"
   ]
  },
  {
   "cell_type": "code",
   "execution_count": 9,
   "metadata": {},
   "outputs": [],
   "source": [
    "loss_eq_min_sim = sympy.simplify(loss_eq_min)"
   ]
  },
  {
   "cell_type": "code",
   "execution_count": 10,
   "metadata": {},
   "outputs": [
    {
     "data": {
      "image/png": "[encoded data removed]",
      "text/latex": [
       "$\\displaystyle - \\frac{u^{2} \\operatorname{erfc}^{2}{\\left(\\frac{\\sqrt{2} u}{2 v} \\right)}}{4} + \\frac{u^{2} \\operatorname{erfc}{\\left(\\frac{\\sqrt{2} u}{2 v} \\right)}}{2} + \\frac{\\sqrt{2} u v e^{- \\frac{u^{2}}{2 v^{2}}} \\operatorname{erfc}{\\left(\\frac{\\sqrt{2} u}{2 v} \\right)}}{2 \\sqrt{\\pi}} - \\frac{\\sqrt{2} u v e^{- \\frac{u^{2}}{2 v^{2}}}}{2 \\sqrt{\\pi}} - \\frac{v^{2} \\operatorname{erfc}^{2}{\\left(\\frac{\\sqrt{2} u}{2 v} \\right)}}{4} + \\frac{v^{2} \\operatorname{erfc}{\\left(\\frac{\\sqrt{2} u}{2 v} \\right)}}{2} - \\frac{3 v^{2} e^{- \\frac{u^{2}}{v^{2}}}}{4 \\pi}$"
      ],
      "text/plain": [
       "                                                      2                                                                                     \n",
       "                                                    -u                                2                                                   2 \n",
       "                                                    ----                            -u                                                  -u  \n",
       "          /  ___  \\          /  ___  \\                 2     /  ___  \\              ----           /  ___  \\          /  ___  \\         ----\n",
       "   2     2|\\/ 2 *u|    2     |\\/ 2 *u|     ___      2*v      |\\/ 2 *u|                 2    2     2|\\/ 2 *u|    2     |\\/ 2 *u|           2 \n",
       "  u *erfc |-------|   u *erfc|-------|   \\/ 2 *u*v*e    *erfc|-------|     ___      2*v    v *erfc |-------|   v *erfc|-------|      2   v  \n",
       "          \\  2*v  /          \\  2*v  /                       \\  2*v  /   \\/ 2 *u*v*e               \\  2*v  /          \\  2*v  /   3*v *e    \n",
       "- ----------------- + ---------------- + ----------------------------- - --------------- - ----------------- + ---------------- - ----------\n",
       "          4                  2                          ____                     ____              4                  2              4*pi   \n",
       "                                                    2*\\/ pi                  2*\\/ pi                                                        "
      ]
     },
     "execution_count": 10,
     "metadata": {},
     "output_type": "execute_result"
    }
   ],
   "source": [
    "loss_eq_min_sim"
   ]
  },
  {
   "cell_type": "code",
   "execution_count": 11,
   "metadata": {},
   "outputs": [
    {
     "name": "stdout",
     "output_type": "stream",
     "text": [
      "-u**2*erfc(sqrt(2)*u/(2*v))**2/4 + u**2*erfc(sqrt(2)*u/(2*v))/2 + sqrt(2)*u*v*exp(-u**2/(2*v**2))*erfc(sqrt(2)*u/(2*v))/(2*sqrt(pi)) - sqrt(2)*u*v*exp(-u**2/(2*v**2))/(2*sqrt(pi)) - v**2*erfc(sqrt(2)*u/(2*v))**2/4 + v**2*erfc(sqrt(2)*u/(2*v))/2 - 3*v**2*exp(-u**2/v**2)/(4*pi)\n"
     ]
    }
   ],
   "source": [
    "print(loss_eq_min_sim)"
   ]
  },
  {
   "cell_type": "code",
   "execution_count": null,
   "metadata": {},
   "outputs": [],
   "source": [
    "# sympy.simplify(integrate(norm * relu_x, (x, 0, +oo)))"
   ]
  }
 ],
 "metadata": {
  "kernelspec": {
   "display_name": "torchenv",
   "language": "python",
   "name": "python3"
  },
  "language_info": {
   "codemirror_mode": {
    "name": "ipython",
    "version": 3
   },
   "file_extension": ".py",
   "mimetype": "text/x-python",
   "name": "python",
   "nbconvert_exporter": "python",
   "pygments_lexer": "ipython3",
   "version": "3.9.15 (main, Nov 24 2022, 14:31:59) \n[GCC 11.2.0]"
  },
  "orig_nbformat": 4,
  "vscode": {
   "interpreter": {
    "hash": "09ed53c31c4084b0592fb3928828ca5258593b9e37489b03328497df4e897e81"
   }
  }
 },
 "nbformat": 4,
 "nbformat_minor": 2
}
