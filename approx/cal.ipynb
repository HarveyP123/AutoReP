{
 "cells": [
  {
   "cell_type": "code",
   "execution_count": 1,
   "metadata": {},
   "outputs": [],
   "source": [
    "import sympy\n",
    "from sympy import *\n"
   ]
  },
  {
   "cell_type": "code",
   "execution_count": 2,
   "metadata": {},
   "outputs": [],
   "source": [
    "init_printing(use_unicode=False, wrap_line=False)\n",
    "x = Symbol('x')\n",
    "u = Symbol('u')\n",
    "v = Symbol('v')"
   ]
  },
  {
   "cell_type": "code",
   "execution_count": null,
   "metadata": {},
   "outputs": [],
   "source": [
    "leaky_relu_x = Piecewise((0.01*x,x<0),(x, x>=0))\n",
    "relu_x = Piecewise((0,x<0),(x, x>=0))"
   ]
  },
  {
   "cell_type": "code",
   "execution_count": null,
   "metadata": {},
   "outputs": [],
   "source": [
    "y = (1/(v * sqrt(2*pi)))*exp(-(x - u)**2/(2 *v**2))  * x**4\n",
    "sympy.simplify(integrate(y, (x, 0, +oo)))\n",
    "# integrate((1/(sqrt(2*pi)))*exp(-(x - u)**2/(2)), (x, -oo, +oo))\n",
    "# y = integrate(exp(-(x - u)**2/v**2), (x, 0, oo))\n",
    "# print(y)"
   ]
  },
  {
   "cell_type": "code",
   "execution_count": null,
   "metadata": {},
   "outputs": [],
   "source": [
    "y = (1/(v * sqrt(2*pi)))*exp(-(x - u)**2/(2 *v**2)) * x**4\n",
    "z = simplify(integrate(y, (x, -oo, +oo)))\n",
    "print(z)"
   ]
  },
  {
   "cell_type": "code",
   "execution_count": null,
   "metadata": {},
   "outputs": [],
   "source": [
    "Piecewise((-u*erfc(sqrt(2)*u/(2*v))/2 + u + sqrt(2)*v*exp(-u**2/(2*v**2))/(2*sqrt(pi)), (Abs(arg(v)) < pi/4) | ((Abs(arg(v)) <= pi/4) & (Abs(2*arg(u) - 4*arg(v) + 2*pi) < pi))), (sqrt(2)*Integral(x*exp(-(u - x)**2/(2*v**2)), (x, 0, oo))/(2*sqrt(pi)*v), True))"
   ]
  },
  {
   "cell_type": "code",
   "execution_count": null,
   "metadata": {},
   "outputs": [],
   "source": [
    "u = 0\n",
    "v = 1"
   ]
  },
  {
   "cell_type": "code",
   "execution_count": 3,
   "metadata": {},
   "outputs": [],
   "source": [
    "c_0_p = 1 - erfc(sqrt(2)*u/(2*v))/2\n",
    "c_0_a = 1\n",
    "c_1_p = -u*erfc(sqrt(2)*u/(2*v))/2 + u + sqrt(2)*v*exp(-u**2/(2*v**2))/(2*sqrt(pi))\n",
    "c_1_a = u\n",
    "c_2_p = -u**2*erfc(sqrt(2)*u/(2*v))/2 + u**2 + sqrt(2)*u*v*exp(-u**2/(2*v**2))/(2*sqrt(pi)) - v**2*erfc(sqrt(2)*u/(2*v))/2 + v**2\n",
    "c_2_a = u**2 + v**2\n",
    "c_3_p = (sqrt(2)*u**2*v + sqrt(pi)*u*(-u**2*erfc(sqrt(2)*u/(2*v)) + 2*u**2 - 3*v**2*erfc(sqrt(2)*u/(2*v)) + 6*v**2)*exp(u**2/(2*v**2)) + 2*sqrt(2)*v**3)*exp(-u**2/(2*v**2))/(2*sqrt(pi))\n",
    "c_3_a = u*(u**2 + 3*v**2)\n",
    "\n",
    "c_4_p = (sqrt(2)*u**3*v + 5*sqrt(2)*u*v**3 + sqrt(pi)*(-u**4*erfc(sqrt(2)*u/(2*v)) + 2*u**4 - 6*u**2*v**2*erfc(sqrt(2)*u/(2*v)) + 12*u**2*v**2 - 3*v**4*erfc(sqrt(2)*u/(2*v)) + 6*v**4)*exp(u**2/(2*v**2)))*exp(-u**2/(2*v**2))/(2*sqrt(pi))\n",
    "c_4_a = u**4 + 6*u**2*v**2 + 3*v**4"
   ]
  },
  {
   "cell_type": "code",
   "execution_count": null,
   "metadata": {},
   "outputs": [],
   "source": [
    "# sympy.expand(c_4_a)\n",
    "# sympy.simplify(c_4_a)"
   ]
  },
  {
   "cell_type": "code",
   "execution_count": null,
   "metadata": {},
   "outputs": [],
   "source": [
    "print(c_4_p.evalf())"
   ]
  },
  {
   "cell_type": "code",
   "execution_count": 4,
   "metadata": {},
   "outputs": [],
   "source": [
    "w2 = Symbol('w2')\n",
    "w1 = Symbol('w1')\n",
    "w0 = Symbol('w0')"
   ]
  },
  {
   "cell_type": "code",
   "execution_count": 6,
   "metadata": {},
   "outputs": [],
   "source": [
    "loss = c_2_p + c_4_a * w2**2 + 2*c_3_a*w1*w2 + c_2_a * (2*w2*w0 + w1**2) + 2 * c_1_a * w0 * w1 + w0**2 - 2*c_3_p*w2 - 2*c_2_p*w1 - 2*c_1_p*w0\n",
    "# loss"
   ]
  },
  {
   "cell_type": "code",
   "execution_count": 7,
   "metadata": {},
   "outputs": [
    {
     "data": {
      "image/png": "[encoded data removed]",
      "text/latex": [
       "$\\displaystyle 2 u w_{1} \\left(u^{2} + 3 v^{2}\\right) + 2 w_{0} \\left(u^{2} + v^{2}\\right) + 2 w_{2} \\left(u^{4} + 6 u^{2} v^{2} + 3 v^{4}\\right) - \\frac{\\left(\\sqrt{2} u^{2} v + \\sqrt{\\pi} u \\left(- u^{2} \\operatorname{erfc}{\\left(\\frac{\\sqrt{2} u}{2 v} \\right)} + 2 u^{2} - 3 v^{2} \\operatorname{erfc}{\\left(\\frac{\\sqrt{2} u}{2 v} \\right)} + 6 v^{2}\\right) e^{\\frac{u^{2}}{2 v^{2}}} + 2 \\sqrt{2} v^{3}\\right) e^{- \\frac{u^{2}}{2 v^{2}}}}{\\sqrt{\\pi}}$"
      ],
      "text/plain": [
       "                                                                   /                                                                                 2              \\    2 \n",
       "                                                                   |                                                                                u               |  -u  \n",
       "                                                                   |                                                                               ----             |  ----\n",
       "                                                                   |                      /         /  ___  \\                   /  ___  \\       \\     2             |     2\n",
       "                                                                   |  ___  2       ____   |   2     |\\/ 2 *u|      2      2     |\\/ 2 *u|      2|  2*v        ___  3|  2*v \n",
       "                                                                   |\\/ 2 *u *v + \\/ pi *u*|- u *erfc|-------| + 2*u  - 3*v *erfc|-------| + 6*v |*e     + 2*\\/ 2 *v |*e    \n",
       "       / 2      2\\        / 2    2\\        / 4      2  2      4\\   \\                      \\         \\  2*v  /                   \\  2*v  /       /                   /      \n",
       "2*u*w1*\\u  + 3*v / + 2*w0*\\u  + v / + 2*w2*\\u  + 6*u *v  + 3*v / - --------------------------------------------------------------------------------------------------------\n",
       "                                                                                                                      ____                                                 \n",
       "                                                                                                                    \\/ pi                                                  "
      ]
     },
     "execution_count": 7,
     "metadata": {},
     "output_type": "execute_result"
    }
   ],
   "source": [
    "loss.diff(w2)"
   ]
  },
  {
   "cell_type": "code",
   "execution_count": 8,
   "metadata": {},
   "outputs": [
    {
     "data": {
      "image/png": "[encoded data removed]",
      "text/latex": [
       "$\\displaystyle u^{2} \\operatorname{erfc}{\\left(\\frac{\\sqrt{2} u}{2 v} \\right)} - 2 u^{2} - \\frac{\\sqrt{2} u v e^{- \\frac{u^{2}}{2 v^{2}}}}{\\sqrt{\\pi}} + 2 u w_{0} + 2 u w_{2} \\left(u^{2} + 3 v^{2}\\right) + v^{2} \\operatorname{erfc}{\\left(\\frac{\\sqrt{2} u}{2 v} \\right)} - 2 v^{2} + 2 w_{1} \\left(u^{2} + v^{2}\\right)$"
      ],
      "text/plain": [
       "                                       2                                                                          \n",
       "                                     -u                                                                           \n",
       "                                     ----                                                                         \n",
       "                                        2                                                                         \n",
       "       /  ___  \\            ___      2*v                                         /  ___  \\                        \n",
       " 2     |\\/ 2 *u|      2   \\/ 2 *u*v*e                       / 2      2\\    2     |\\/ 2 *u|      2        / 2    2\\\n",
       "u *erfc|-------| - 2*u  - --------------- + 2*u*w0 + 2*u*w2*\\u  + 3*v / + v *erfc|-------| - 2*v  + 2*w1*\\u  + v /\n",
       "       \\  2*v  /                 ____                                            \\  2*v  /                        \n",
       "                               \\/ pi                                                                              "
      ]
     },
     "execution_count": 8,
     "metadata": {},
     "output_type": "execute_result"
    }
   ],
   "source": [
    "loss.diff(w1)"
   ]
  },
  {
   "cell_type": "code",
   "execution_count": 9,
   "metadata": {},
   "outputs": [
    {
     "data": {
      "image/png": "[encoded data removed]",
      "text/latex": [
       "$\\displaystyle 2 u w_{1} + u \\operatorname{erfc}{\\left(\\frac{\\sqrt{2} u}{2 v} \\right)} - 2 u - \\frac{\\sqrt{2} v e^{- \\frac{u^{2}}{2 v^{2}}}}{\\sqrt{\\pi}} + 2 w_{0} + 2 w_{2} \\left(u^{2} + v^{2}\\right)$"
      ],
      "text/plain": [
       "                                            2                         \n",
       "                                          -u                          \n",
       "                                          ----                        \n",
       "                                             2                        \n",
       "               /  ___  \\           ___    2*v                         \n",
       "               |\\/ 2 *u|         \\/ 2 *v*e                   / 2    2\\\n",
       "2*u*w1 + u*erfc|-------| - 2*u - ------------- + 2*w0 + 2*w2*\\u  + v /\n",
       "               \\  2*v  /               ____                           \n",
       "                                     \\/ pi                            "
      ]
     },
     "execution_count": 9,
     "metadata": {},
     "output_type": "execute_result"
    }
   ],
   "source": [
    "loss.diff(w0)"
   ]
  },
  {
   "cell_type": "code",
   "execution_count": 15,
   "metadata": {},
   "outputs": [
    {
     "data": {
      "image/png": "[encoded data removed]",
      "text/latex": [
       "$\\displaystyle \\left[ \\left\\{ w_{0} : \\frac{\\sqrt{2} u^{2} e^{- \\frac{u^{2}}{2 v^{2}}}}{4 \\sqrt{\\pi} v} + \\frac{\\sqrt{2} v e^{- \\frac{u^{2}}{2 v^{2}}}}{4 \\sqrt{\\pi}}, \\  w_{1} : - \\frac{\\sqrt{2} u e^{- \\frac{u^{2}}{2 v^{2}}}}{2 \\sqrt{\\pi} v} - \\frac{\\operatorname{erfc}{\\left(\\frac{\\sqrt{2} u}{2 v} \\right)}}{2} + 1, \\  w_{2} : \\frac{\\sqrt{2} e^{- \\frac{u^{2}}{2 v^{2}}}}{4 \\sqrt{\\pi} v}\\right\\}\\right]$"
      ],
      "text/plain": [
       "                  2               2                    2                                    2   \n",
       "                -u              -u                   -u                                   -u    \n",
       "                ----            ----                 ----       /  ___  \\                 ----  \n",
       "                   2               2                    2       |\\/ 2 *u|                    2  \n",
       "        ___  2  2*v      ___    2*v           ___    2*v    erfc|-------|            ___  2*v   \n",
       "      \\/ 2 *u *e       \\/ 2 *v*e            \\/ 2 *u*e           \\  2*v  /          \\/ 2 *e      \n",
       "[{w0: -------------- + -------------, w1: - ------------- - ------------- + 1, w2: -----------}]\n",
       "            ____              ____                ____            2                     ____    \n",
       "        4*\\/ pi *v        4*\\/ pi             2*\\/ pi *v                            4*\\/ pi *v  "
      ]
     },
     "execution_count": 15,
     "metadata": {},
     "output_type": "execute_result"
    }
   ],
   "source": [
    "solve([loss.diff(w2), loss.diff(w1), loss.diff(w0)], [w2, w1, w0], dict=True) #, set=True"
   ]
  },
  {
   "cell_type": "code",
   "execution_count": 1,
   "metadata": {},
   "outputs": [],
   "source": [
    "from approx import *"
   ]
  },
  {
   "cell_type": "code",
   "execution_count": 28,
   "metadata": {},
   "outputs": [
    {
     "name": "stdout",
     "output_type": "stream",
     "text": [
      "-0.01100204146138436\n",
      "0.005275710859741295\n"
     ]
    }
   ],
   "source": [
    "print(approx_4rd(0.5, 1)[0])\n",
    "print(approx_4rd_loss(0.5, 1))"
   ]
  }
 ],
 "metadata": {
  "kernelspec": {
   "display_name": "torchenv",
   "language": "python",
   "name": "python3"
  },
  "language_info": {
   "codemirror_mode": {
    "name": "ipython",
    "version": 3
   },
   "file_extension": ".py",
   "mimetype": "text/x-python",
   "name": "python",
   "nbconvert_exporter": "python",
   "pygments_lexer": "ipython3",
   "version": "3.9.15 (main, Nov 24 2022, 14:31:59) \n[GCC 11.2.0]"
  },
  "orig_nbformat": 4,
  "vscode": {
   "interpreter": {
    "hash": "09ed53c31c4084b0592fb3928828ca5258593b9e37489b03328497df4e897e81"
   }
  }
 },
 "nbformat": 4,
 "nbformat_minor": 2
}
